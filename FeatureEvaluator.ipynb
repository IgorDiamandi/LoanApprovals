{
 "cells": [
  {
   "cell_type": "code",
   "execution_count": 2,
   "id": "a2ed955f-3858-48c7-9045-dcb460328c76",
   "metadata": {},
   "outputs": [],
   "source": [
    "import seaborn as sns\n",
    "import pandas as pd\n",
    "from sklearn.preprocessing import LabelEncoder\n",
    "import numpy as np\n",
    "from sklearn.pipeline import Pipeline\n",
    "from sklearn.ensemble import GradientBoostingClassifier, RandomForestClassifier, GradientBoostingRegressor, RandomForestRegressor\n",
    "from sklearn.linear_model import Lasso, LinearRegression\n",
    "from sklearn.feature_selection import RFE\n",
    "from sklearn.feature_selection import SelectFromModel\n",
    "from sklearn.svm import SVR\n",
    "from concurrent.futures import ThreadPoolExecutor\n",
    "from sklearn.linear_model import ElasticNet\n",
    "from sklearn.linear_model import Ridge\n",
    "from statsmodels.formula.api import ols\n",
    "import statsmodels.api as sm"
   ]
  },
  {
   "cell_type": "code",
   "execution_count": 3,
   "id": "93b3183d-399a-4517-976c-f12d91274b46",
   "metadata": {},
   "outputs": [],
   "source": [
    "df = pd.read_csv(\"loans_clean.csv\")"
   ]
  },
  {
   "cell_type": "code",
   "execution_count": 6,
   "id": "89c0d5ea-e433-4ca8-be98-99eb3ceacfca",
   "metadata": {},
   "outputs": [],
   "source": [
    "y=df['Loan_Status']\n",
    "X = df.drop(columns=['Loan_Status'])"
   ]
  },
  {
   "cell_type": "code",
   "execution_count": 8,
   "id": "3b2ddd95-0d57-4df0-a0d6-5ede3c967a2b",
   "metadata": {},
   "outputs": [],
   "source": [
    "from sklearn.linear_model import Lasso\n",
    "from concurrent.futures import ThreadPoolExecutor\n",
    "from sklearn.linear_model import ElasticNet\n",
    "from sklearn.linear_model import Ridge\n",
    "\n",
    "def fit_lasso(X, y):\n",
    "    lasso = Lasso(alpha=0.01).fit(X, y)\n",
    "    lasso_selected = (np.abs(lasso.coef_) > 0).astype(int)\n",
    "    return lasso_selected\n",
    "\n",
    "def fit_svm(X, y):\n",
    "    svm = SVR(kernel='linear').fit(X, y)\n",
    "    svm_selected = (np.abs(svm.coef_.ravel()) > 0).astype(int)\n",
    "    return svm_selected\n",
    "\n",
    "def fit_gradient_boost(X, y):\n",
    "    gb = GradientBoostingRegressor().fit(X, y)\n",
    "    gb_importances = gb.feature_importances_\n",
    "    gb_selected = (gb_importances > 0).astype(int)\n",
    "    return gb_selected\n",
    "\n",
    "def fit_random_forest(X, y):\n",
    "    rf = RandomForestRegressor().fit(X, y)\n",
    "    rf_importances = rf.feature_importances_\n",
    "    rf_selected = (rf_importances > 0).astype(int)\n",
    "    return rf_selected\n",
    "\n",
    "def fit_ridge(X, y):\n",
    "    ridge = Ridge(alpha=1.0).fit(X, y)\n",
    "    ridge_selected = (np.abs(ridge.coef_) > 0).astype(int)\n",
    "    return ridge_selected\n",
    "\n",
    "def fit_elastic_net(X, y):\n",
    "    enet = ElasticNet(alpha=0.01, l1_ratio=0.5).fit(X, y)\n",
    "    enet_selected = (np.abs(enet.coef_) > 0).astype(int)\n",
    "    return enet_selected\n",
    "\n",
    "def fit_rfe(X, y):\n",
    "    model = LinearRegression()\n",
    "    rfe = RFE(model, n_features_to_select=5).fit(X, y)\n",
    "    rfe_selected = rfe.support_.astype(int)\n",
    "    return rfe_selected"
   ]
  },
  {
   "cell_type": "code",
   "execution_count": 10,
   "id": "6f173139-f27f-4f22-af72-d926402ebd30",
   "metadata": {},
   "outputs": [],
   "source": [
    "with ThreadPoolExecutor() as executor:\n",
    "    lasso_future = executor.submit(fit_lasso, X, y)\n",
    "    svm_future = executor.submit(fit_svm, X, y)\n",
    "    gb_future = executor.submit(fit_gradient_boost, X, y)\n",
    "    rf_future = executor.submit(fit_random_forest, X, y)\n",
    "    en_future = executor.submit(fit_elastic_net, X, y)\n",
    "    ridge_future = executor.submit(fit_ridge, X, y)\n",
    "    rfe_future = executor.submit(fit_rfe, X, y)\n",
    "\n",
    "    lasso_selected = lasso_future.result()\n",
    "    svm_selected = svm_future.result()\n",
    "    gb_selected = gb_future.result()\n",
    "    rf_selected = rf_future.result()\n",
    "    en_selected = en_future.result()\n",
    "    ridge_selected = ridge_future.result()\n",
    "    rfe_selected = rfe_future.result()"
   ]
  },
  {
   "cell_type": "code",
   "execution_count": 11,
   "id": "8df6e1de-5357-4a10-bd2f-e2112f4c033d",
   "metadata": {
    "editable": true,
    "slideshow": {
     "slide_type": ""
    },
    "tags": []
   },
   "outputs": [
    {
     "name": "stdout",
     "output_type": "stream",
     "text": [
      "                 Feature  Lasso  SVM  GradientBoost  RandomForest  ElasticNet  \\\n",
      "3                Married      1    1              1             1           1   \n",
      "5              Education      1    1              1             1           1   \n",
      "10        Credit_History      1    1              1             1           1   \n",
      "0           Unnamed: 0.1      1    1              1             1           1   \n",
      "1             Unnamed: 0      1    1              1             1           1   \n",
      "7        ApplicantIncome      1    1              1             1           1   \n",
      "8      CoapplicantIncome      1    1              1             1           1   \n",
      "9             LoanAmount      1    1              1             1           1   \n",
      "4             Dependents      0    1              1             1           1   \n",
      "6          Self_Employed      0    1              1             1           0   \n",
      "11         Property_Area      0    1              1             1           1   \n",
      "12  Loan_Amount_Term_Bin      0    1              1             1           0   \n",
      "2                 Gender      0    1              1             1           0   \n",
      "\n",
      "    Ridge  RFE  Sum  \n",
      "3       1    1    7  \n",
      "5       1    1    7  \n",
      "10      1    1    7  \n",
      "0       1    0    6  \n",
      "1       1    0    6  \n",
      "7       1    0    6  \n",
      "8       1    0    6  \n",
      "9       1    0    6  \n",
      "4       1    0    5  \n",
      "6       1    1    5  \n",
      "11      1    0    5  \n",
      "12      1    1    5  \n",
      "2       1    0    4  \n"
     ]
    }
   ],
   "source": [
    "selection_df = pd.DataFrame({\n",
    "    'Feature': X.columns,\n",
    "    'Lasso': lasso_selected,\n",
    "    'SVM': svm_selected,\n",
    "    'GradientBoost': gb_selected,\n",
    "    'RandomForest': rf_selected,\n",
    "    'ElasticNet': en_selected,\n",
    "    'Ridge': ridge_selected,\n",
    "    'RFE': rfe_selected\n",
    "})\n",
    "\n",
    "selection_df['Sum'] = selection_df[['Lasso', 'SVM', 'GradientBoost', 'RandomForest', 'ElasticNet', 'Ridge','RFE']].sum(axis=1)\n",
    "\n",
    "print(selection_df.sort_values('Sum', ascending=False))"
   ]
  },
  {
   "cell_type": "markdown",
   "id": "43b3c48f-f95d-4c97-8f95-3e9d0a0d6bc1",
   "metadata": {},
   "source": [
    "It's evident that the Gender field has the least importance, followed by Loan_Amount_Term, Property_Area, Self_Employed, and Dependents. Considering that the dataset is already small, removing these fields could negatively impact the model's predictive accuracy. Therefore, it is reasonable to retain these fields."
   ]
  },
  {
   "cell_type": "code",
   "execution_count": null,
   "id": "b6f716fb-a08f-4530-8e70-c05ef4171bd9",
   "metadata": {},
   "outputs": [],
   "source": []
  }
 ],
 "metadata": {
  "kernelspec": {
   "display_name": "Python 3 (ipykernel)",
   "language": "python",
   "name": "python3"
  },
  "language_info": {
   "codemirror_mode": {
    "name": "ipython",
    "version": 3
   },
   "file_extension": ".py",
   "mimetype": "text/x-python",
   "name": "python",
   "nbconvert_exporter": "python",
   "pygments_lexer": "ipython3",
   "version": "3.12.4"
  }
 },
 "nbformat": 4,
 "nbformat_minor": 5
}
